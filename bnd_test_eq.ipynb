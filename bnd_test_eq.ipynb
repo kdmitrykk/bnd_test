{
  "nbformat": 4,
  "nbformat_minor": 0,
  "metadata": {
    "colab": {
      "provenance": [],
      "gpuType": "T4"
    },
    "kernelspec": {
      "name": "python3",
      "display_name": "Python 3"
    },
    "language_info": {
      "name": "python"
    },
    "accelerator": "GPU"
  },
  "cells": [
    {
      "cell_type": "code",
      "source": [
        "# !pip install ultralytics"
      ],
      "metadata": {
        "colab": {
          "base_uri": "https://localhost:8080/"
        },
        "id": "FE0NQUjipTfQ",
        "outputId": "01128993-3d5c-4953-cbb6-c3632015293d"
      },
      "execution_count": 1,
      "outputs": [
        {
          "output_type": "stream",
          "name": "stdout",
          "text": [
            "Requirement already satisfied: ultralytics in /usr/local/lib/python3.12/dist-packages (8.3.221)\n",
            "Requirement already satisfied: numpy>=1.23.0 in /usr/local/lib/python3.12/dist-packages (from ultralytics) (2.0.2)\n",
            "Requirement already satisfied: matplotlib>=3.3.0 in /usr/local/lib/python3.12/dist-packages (from ultralytics) (3.10.0)\n",
            "Requirement already satisfied: opencv-python>=4.6.0 in /usr/local/lib/python3.12/dist-packages (from ultralytics) (4.12.0.88)\n",
            "Requirement already satisfied: pillow>=7.1.2 in /usr/local/lib/python3.12/dist-packages (from ultralytics) (11.3.0)\n",
            "Requirement already satisfied: pyyaml>=5.3.1 in /usr/local/lib/python3.12/dist-packages (from ultralytics) (6.0.3)\n",
            "Requirement already satisfied: requests>=2.23.0 in /usr/local/lib/python3.12/dist-packages (from ultralytics) (2.32.4)\n",
            "Requirement already satisfied: scipy>=1.4.1 in /usr/local/lib/python3.12/dist-packages (from ultralytics) (1.16.2)\n",
            "Requirement already satisfied: torch>=1.8.0 in /usr/local/lib/python3.12/dist-packages (from ultralytics) (2.8.0+cu126)\n",
            "Requirement already satisfied: torchvision>=0.9.0 in /usr/local/lib/python3.12/dist-packages (from ultralytics) (0.23.0+cu126)\n",
            "Requirement already satisfied: psutil in /usr/local/lib/python3.12/dist-packages (from ultralytics) (5.9.5)\n",
            "Requirement already satisfied: polars in /usr/local/lib/python3.12/dist-packages (from ultralytics) (1.25.2)\n",
            "Requirement already satisfied: ultralytics-thop>=2.0.0 in /usr/local/lib/python3.12/dist-packages (from ultralytics) (2.0.17)\n",
            "Requirement already satisfied: contourpy>=1.0.1 in /usr/local/lib/python3.12/dist-packages (from matplotlib>=3.3.0->ultralytics) (1.3.3)\n",
            "Requirement already satisfied: cycler>=0.10 in /usr/local/lib/python3.12/dist-packages (from matplotlib>=3.3.0->ultralytics) (0.12.1)\n",
            "Requirement already satisfied: fonttools>=4.22.0 in /usr/local/lib/python3.12/dist-packages (from matplotlib>=3.3.0->ultralytics) (4.60.1)\n",
            "Requirement already satisfied: kiwisolver>=1.3.1 in /usr/local/lib/python3.12/dist-packages (from matplotlib>=3.3.0->ultralytics) (1.4.9)\n",
            "Requirement already satisfied: packaging>=20.0 in /usr/local/lib/python3.12/dist-packages (from matplotlib>=3.3.0->ultralytics) (25.0)\n",
            "Requirement already satisfied: pyparsing>=2.3.1 in /usr/local/lib/python3.12/dist-packages (from matplotlib>=3.3.0->ultralytics) (3.2.5)\n",
            "Requirement already satisfied: python-dateutil>=2.7 in /usr/local/lib/python3.12/dist-packages (from matplotlib>=3.3.0->ultralytics) (2.9.0.post0)\n",
            "Requirement already satisfied: charset_normalizer<4,>=2 in /usr/local/lib/python3.12/dist-packages (from requests>=2.23.0->ultralytics) (3.4.4)\n",
            "Requirement already satisfied: idna<4,>=2.5 in /usr/local/lib/python3.12/dist-packages (from requests>=2.23.0->ultralytics) (3.11)\n",
            "Requirement already satisfied: urllib3<3,>=1.21.1 in /usr/local/lib/python3.12/dist-packages (from requests>=2.23.0->ultralytics) (2.5.0)\n",
            "Requirement already satisfied: certifi>=2017.4.17 in /usr/local/lib/python3.12/dist-packages (from requests>=2.23.0->ultralytics) (2025.10.5)\n",
            "Requirement already satisfied: filelock in /usr/local/lib/python3.12/dist-packages (from torch>=1.8.0->ultralytics) (3.20.0)\n",
            "Requirement already satisfied: typing-extensions>=4.10.0 in /usr/local/lib/python3.12/dist-packages (from torch>=1.8.0->ultralytics) (4.15.0)\n",
            "Requirement already satisfied: setuptools in /usr/local/lib/python3.12/dist-packages (from torch>=1.8.0->ultralytics) (75.2.0)\n",
            "Requirement already satisfied: sympy>=1.13.3 in /usr/local/lib/python3.12/dist-packages (from torch>=1.8.0->ultralytics) (1.13.3)\n",
            "Requirement already satisfied: networkx in /usr/local/lib/python3.12/dist-packages (from torch>=1.8.0->ultralytics) (3.5)\n",
            "Requirement already satisfied: jinja2 in /usr/local/lib/python3.12/dist-packages (from torch>=1.8.0->ultralytics) (3.1.6)\n",
            "Requirement already satisfied: fsspec in /usr/local/lib/python3.12/dist-packages (from torch>=1.8.0->ultralytics) (2025.3.0)\n",
            "Requirement already satisfied: nvidia-cuda-nvrtc-cu12==12.6.77 in /usr/local/lib/python3.12/dist-packages (from torch>=1.8.0->ultralytics) (12.6.77)\n",
            "Requirement already satisfied: nvidia-cuda-runtime-cu12==12.6.77 in /usr/local/lib/python3.12/dist-packages (from torch>=1.8.0->ultralytics) (12.6.77)\n",
            "Requirement already satisfied: nvidia-cuda-cupti-cu12==12.6.80 in /usr/local/lib/python3.12/dist-packages (from torch>=1.8.0->ultralytics) (12.6.80)\n",
            "Requirement already satisfied: nvidia-cudnn-cu12==9.10.2.21 in /usr/local/lib/python3.12/dist-packages (from torch>=1.8.0->ultralytics) (9.10.2.21)\n",
            "Requirement already satisfied: nvidia-cublas-cu12==12.6.4.1 in /usr/local/lib/python3.12/dist-packages (from torch>=1.8.0->ultralytics) (12.6.4.1)\n",
            "Requirement already satisfied: nvidia-cufft-cu12==11.3.0.4 in /usr/local/lib/python3.12/dist-packages (from torch>=1.8.0->ultralytics) (11.3.0.4)\n",
            "Requirement already satisfied: nvidia-curand-cu12==10.3.7.77 in /usr/local/lib/python3.12/dist-packages (from torch>=1.8.0->ultralytics) (10.3.7.77)\n",
            "Requirement already satisfied: nvidia-cusolver-cu12==11.7.1.2 in /usr/local/lib/python3.12/dist-packages (from torch>=1.8.0->ultralytics) (11.7.1.2)\n",
            "Requirement already satisfied: nvidia-cusparse-cu12==12.5.4.2 in /usr/local/lib/python3.12/dist-packages (from torch>=1.8.0->ultralytics) (12.5.4.2)\n",
            "Requirement already satisfied: nvidia-cusparselt-cu12==0.7.1 in /usr/local/lib/python3.12/dist-packages (from torch>=1.8.0->ultralytics) (0.7.1)\n",
            "Requirement already satisfied: nvidia-nccl-cu12==2.27.3 in /usr/local/lib/python3.12/dist-packages (from torch>=1.8.0->ultralytics) (2.27.3)\n",
            "Requirement already satisfied: nvidia-nvtx-cu12==12.6.77 in /usr/local/lib/python3.12/dist-packages (from torch>=1.8.0->ultralytics) (12.6.77)\n",
            "Requirement already satisfied: nvidia-nvjitlink-cu12==12.6.85 in /usr/local/lib/python3.12/dist-packages (from torch>=1.8.0->ultralytics) (12.6.85)\n",
            "Requirement already satisfied: nvidia-cufile-cu12==1.11.1.6 in /usr/local/lib/python3.12/dist-packages (from torch>=1.8.0->ultralytics) (1.11.1.6)\n",
            "Requirement already satisfied: triton==3.4.0 in /usr/local/lib/python3.12/dist-packages (from torch>=1.8.0->ultralytics) (3.4.0)\n",
            "Requirement already satisfied: six>=1.5 in /usr/local/lib/python3.12/dist-packages (from python-dateutil>=2.7->matplotlib>=3.3.0->ultralytics) (1.17.0)\n",
            "Requirement already satisfied: mpmath<1.4,>=1.1.0 in /usr/local/lib/python3.12/dist-packages (from sympy>=1.13.3->torch>=1.8.0->ultralytics) (1.3.0)\n",
            "Requirement already satisfied: MarkupSafe>=2.0 in /usr/local/lib/python3.12/dist-packages (from jinja2->torch>=1.8.0->ultralytics) (3.0.3)\n"
          ]
        }
      ]
    },
    {
      "cell_type": "code",
      "execution_count": 2,
      "metadata": {
        "id": "f3jr30nPpDyk"
      },
      "outputs": [],
      "source": [
        "from __future__ import annotations\n",
        "\n",
        "import argparse\n",
        "import os\n",
        "import sys\n",
        "import time\n",
        "from typing import Tuple, List\n",
        "\n",
        "import cv2\n",
        "import numpy as np\n",
        "import torch\n",
        "from tqdm import tqdm\n",
        "from ultralytics import YOLO"
      ]
    },
    {
      "cell_type": "code",
      "source": [
        "def choose_device() -> str:\n",
        "    \"\"\"\n",
        "    Автоматически выбираем устройство: 'cuda' если доступен GPU, иначе 'cpu'.\n",
        "    \"\"\"\n",
        "    return \"cuda\" if torch.cuda.is_available() else \"cpu\""
      ],
      "metadata": {
        "id": "E0wuu9fDpmFk"
      },
      "execution_count": 3,
      "outputs": []
    },
    {
      "cell_type": "code",
      "source": [
        "def alpha_rectangle(\n",
        "    img: np.ndarray,\n",
        "    xyxy: Tuple[int, int, int, int],\n",
        "    color: Tuple[int, int, int],\n",
        "    alpha: float = 0.35,\n",
        "    thickness: int = 2,\n",
        ") -> None:\n",
        "    \"\"\"\n",
        "    Рисует полупрозрачный прямоугольник на изображении (in-place).\n",
        "    Используется для того, чтобы рамки не полностью перекрывали картинку.\n",
        "    \"\"\"\n",
        "    x1, y1, x2, y2 = xyxy\n",
        "    overlay = img.copy()\n",
        "    cv2.rectangle(overlay, (x1, y1), (x2, y2), color, -1)\n",
        "    cv2.addWeighted(overlay, alpha, img, 1 - alpha, 0, img)\n",
        "    cv2.rectangle(img, (x1, y1), (x2, y2), color, thickness)"
      ],
      "metadata": {
        "id": "5TF-uX5OuTYt"
      },
      "execution_count": 4,
      "outputs": []
    },
    {
      "cell_type": "code",
      "source": [
        "def draw_label(\n",
        "    img: np.ndarray,\n",
        "    text: str,\n",
        "    topleft: Tuple[int, int],\n",
        "    bg_color: Tuple[int, int, int] = (0, 0, 0),\n",
        "    text_color: Tuple[int, int, int] = (255, 255, 255),\n",
        "    font_scale: float = 0.45,\n",
        "    thickness: int = 1,\n",
        ") -> None:\n",
        "    \"\"\"\n",
        "    Отписовка подписи (фон + текст) над объектом.\n",
        "    \"\"\"\n",
        "    x, y = topleft\n",
        "    font = cv2.FONT_HERSHEY_SIMPLEX\n",
        "    ((w, h), _) = (cv2.getTextSize(text, font, font_scale, thickness)[0], None)\n",
        "    cv2.rectangle(img, (x, y - h - 6), (x + w + 6, y), bg_color, -1)\n",
        "    cv2.putText(img, text, (x + 3, y - 4), font, font_scale, text_color, thickness, cv2.LINE_AA)"
      ],
      "metadata": {
        "id": "cZ5rI6G9pqZo"
      },
      "execution_count": 5,
      "outputs": []
    },
    {
      "cell_type": "code",
      "source": [
        "def process_video(\n",
        "    input_path: str,\n",
        "    output_path: str,\n",
        "    model_name: str = \"yolov8n.pt\",\n",
        "    conf_thresh: float = 0.3,\n",
        "    iou_thresh: float = 0.45,\n",
        "    device: str | None = None,\n",
        "    class_filter: List[int] | None = None,\n",
        ") -> None:\n",
        "    \"\"\"\n",
        "    Обрабатывает видео: делает детекцию и сохраняет видео с отрисовкой.\n",
        "\n",
        "    Args:\n",
        "        input_path: путь к входному видео (например, 'crowd.mp4').\n",
        "        output_path: путь для сохранения обработанного видео.\n",
        "        model_name: имя модели/весов для ultralytics YOLO (по умолчанию 'yolov8n.pt').\n",
        "                    Можно использовать 'yolov8n', 'yolov8s', путь к локальным весам и т.д.\n",
        "        conf_thresh: порог confidence для фильтрации детекций.\n",
        "        iou_thresh: порог NMS iou.\n",
        "        device: 'cuda' или 'cpu' или None для автоподбора.\n",
        "        class_filter: список id классов (COCO) которые нужно оставлять. Если None — все.\n",
        "                      Для людей по COCO: [0]\n",
        "    \"\"\"\n",
        "    if device is None:\n",
        "        device = choose_device()\n",
        "\n",
        "    if not os.path.exists(input_path):\n",
        "        raise FileNotFoundError(f\"Input video not found: {input_path}\")\n",
        "\n",
        "    print(f\"Loading model {model_name} on device {device} ...\")\n",
        "    model = YOLO(model_name)\n",
        "    model.to(device)\n",
        "\n",
        "    cap = cv2.VideoCapture(input_path)\n",
        "    if not cap.isOpened():\n",
        "        raise RuntimeError(\"Не удалось открыть входное видео.\")\n",
        "\n",
        "    fps = cap.get(cv2.CAP_PROP_FPS) or 30.0\n",
        "    w = int(cap.get(cv2.CAP_PROP_FRAME_WIDTH))\n",
        "    h = int(cap.get(cv2.CAP_PROP_FRAME_HEIGHT))\n",
        "    fourcc = cv2.VideoWriter_fourcc(*\"mp4v\")\n",
        "    out = cv2.VideoWriter(output_path, fourcc, fps, (w, h))\n",
        "\n",
        "    total_frames = int(cap.get(cv2.CAP_PROP_FRAME_COUNT)) or None\n",
        "    pbar = tqdm(total=total_frames, desc=\"Processing frames\", unit=\"frame\")\n",
        "\n",
        "    frame_idx = 0\n",
        "    start_time = time.time()\n",
        "\n",
        "    # Обрабатываем по кадру (легко читать лог и видеть прогресс видео).\n",
        "    while True:\n",
        "        ret, frame = cap.read()\n",
        "        if not ret:\n",
        "            break\n",
        "\n",
        "        results = model.predict(\n",
        "            frame,\n",
        "            conf=conf_thresh,\n",
        "            iou=iou_thresh,\n",
        "            device=device,\n",
        "            verbose=False,\n",
        "            imgsz=max(w, h),\n",
        "        )\n",
        "\n",
        "        # results — list of Results (по кадрам); здесь один элемент\n",
        "        res = results[0]\n",
        "\n",
        "        # Получаем bounding boxes, classes и confidences\n",
        "        boxes = getattr(res.boxes, \"xyxy\", None)\n",
        "        confs = getattr(res.boxes, \"conf\", None)\n",
        "        cls_ids = getattr(res.boxes, \"cls\", None)\n",
        "\n",
        "        # Если нет детекций — просто записываем исходный кадр\n",
        "        if boxes is None or len(boxes) == 0:\n",
        "            out.write(frame)\n",
        "            pbar.update(1)\n",
        "            frame_idx += 1\n",
        "            continue\n",
        "\n",
        "        # Конвертируем в numpy\n",
        "        boxes = boxes.cpu().numpy().astype(int)\n",
        "        confs = confs.cpu().numpy()\n",
        "        cls_ids = cls_ids.cpu().numpy().astype(int)\n",
        "\n",
        "        # Нарисуем все объекты, которые проходят фильтр классов (если задан)\n",
        "        for (bb, conf, cid) in zip(boxes, confs, cls_ids):\n",
        "            if class_filter is not None and cid not in class_filter:\n",
        "                continue\n",
        "\n",
        "            x1, y1, x2, y2 = int(bb[0]), int(bb[1]), int(bb[2]), int(bb[3])\n",
        "\n",
        "            color = (19, 142, 255)\n",
        "\n",
        "            alpha_rectangle(frame, (x1, y1, x2, y2), color=color, alpha=0.25, thickness=2)\n",
        "\n",
        "            label = f\"person {conf:.2f}\"\n",
        "            text_y = y1 if y1 - 12 > 10 else y2 + 12\n",
        "            draw_label(frame, label, (x1, text_y), bg_color=(0, 0, 0), text_color=(255, 255, 255))\n",
        "\n",
        "        out.write(frame)\n",
        "        pbar.update(1)\n",
        "        frame_idx += 1\n",
        "\n",
        "    elapsed = time.time() - start_time\n",
        "    pbar.close()\n",
        "    cap.release()\n",
        "    out.release()\n",
        "\n",
        "    print(f\"Done. Processed {frame_idx} frames in {elapsed:.1f}s ({frame_idx/elapsed:.2f} FPS).\")\n",
        "    print(f\"Saved output to: {output_path}\")"
      ],
      "metadata": {
        "id": "TIRYHDsTq6W2"
      },
      "execution_count": 6,
      "outputs": []
    },
    {
      "cell_type": "code",
      "source": [
        "if __name__ == \"__main__\":\n",
        "\n",
        "    input_video_path = \"crowd.mp4\"\n",
        "    output_video_path = \"crowd_out.mp4\"\n",
        "\n",
        "    class_filter = [0]\n",
        "\n",
        "    print(f\"Starting detection on {input_video_path}...\")\n",
        "    process_video(\n",
        "        input_path=input_video_path,\n",
        "        output_path=output_video_path,\n",
        "        model_name=\"yolov8n.pt\",\n",
        "        conf_thresh=0.45,\n",
        "        iou_thresh=0.45,\n",
        "        device=None,\n",
        "        class_filter=class_filter,\n",
        "    )"
      ],
      "metadata": {
        "colab": {
          "base_uri": "https://localhost:8080/"
        },
        "id": "6t_PKTy6smma",
        "outputId": "f64e48df-6a7a-4e78-8ab3-338c6105b512"
      },
      "execution_count": 7,
      "outputs": [
        {
          "output_type": "stream",
          "name": "stdout",
          "text": [
            "Starting detection on crowd.mp4...\n",
            "Loading model yolov8n.pt on device cuda ...\n"
          ]
        },
        {
          "output_type": "stream",
          "name": "stderr",
          "text": [
            "Processing frames: 100%|██████████| 705/705 [01:28<00:00,  7.97frame/s]"
          ]
        },
        {
          "output_type": "stream",
          "name": "stdout",
          "text": [
            "Done. Processed 705 frames in 88.4s (7.97 FPS).\n",
            "Saved output to: crowd_out.mp4\n"
          ]
        },
        {
          "output_type": "stream",
          "name": "stderr",
          "text": [
            "\n"
          ]
        }
      ]
    }
  ]
}